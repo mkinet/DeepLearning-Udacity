{
 "cells": [
  {
   "cell_type": "markdown",
   "metadata": {
    "colab_type": "text",
    "deletable": true,
    "editable": true,
    "id": "D7tqLMoKF6uq"
   },
   "source": [
    "Deep Learning\n",
    "=============\n",
    "\n",
    "Assignment 5\n",
    "------------\n",
    "\n",
    "The goal of this assignment is to train a Word2Vec skip-gram model over [Text8](http://mattmahoney.net/dc/textdata) data."
   ]
  },
  {
   "cell_type": "code",
   "execution_count": 1,
   "metadata": {
    "cellView": "both",
    "colab": {
     "autoexec": {
      "startup": false,
      "wait_interval": 0
     }
    },
    "colab_type": "code",
    "collapsed": true,
    "deletable": true,
    "editable": true,
    "id": "0K1ZyLn04QZf"
   },
   "outputs": [],
   "source": [
    "# These are all the modules we'll be using later. Make sure you can import them\n",
    "# before proceeding further.\n",
    "%matplotlib inline\n",
    "from __future__ import print_function\n",
    "import collections\n",
    "import math\n",
    "import numpy as np\n",
    "import os\n",
    "import random\n",
    "import tensorflow as tf\n",
    "import zipfile\n",
    "from matplotlib import pylab\n",
    "from six.moves import range\n",
    "from six.moves.urllib.request import urlretrieve\n",
    "from sklearn.manifold import TSNE"
   ]
  },
  {
   "cell_type": "markdown",
   "metadata": {
    "colab_type": "text",
    "deletable": true,
    "editable": true,
    "id": "aCjPJE944bkV"
   },
   "source": [
    "Download the data from the source website if necessary."
   ]
  },
  {
   "cell_type": "code",
   "execution_count": 2,
   "metadata": {
    "cellView": "both",
    "colab": {
     "autoexec": {
      "startup": false,
      "wait_interval": 0
     },
     "output_extras": [
      {
       "item_id": 1
      }
     ]
    },
    "colab_type": "code",
    "collapsed": false,
    "deletable": true,
    "editable": true,
    "executionInfo": {
     "elapsed": 14640,
     "status": "ok",
     "timestamp": 1445964482948,
     "user": {
      "color": "#1FA15D",
      "displayName": "Vincent Vanhoucke",
      "isAnonymous": false,
      "isMe": true,
      "permissionId": "05076109866853157986",
      "photoUrl": "//lh6.googleusercontent.com/-cCJa7dTDcgQ/AAAAAAAAAAI/AAAAAAAACgw/r2EZ_8oYer4/s50-c-k-no/photo.jpg",
      "sessionId": "2f1ffade4c9f20de",
      "userId": "102167687554210253930"
     },
     "user_tz": 420
    },
    "id": "RJ-o3UBUFtCw",
    "outputId": "c4ec222c-80b5-4298-e635-93ca9f79c3b7"
   },
   "outputs": [
    {
     "name": "stdout",
     "output_type": "stream",
     "text": [
      "Found and verified text8.zip\n"
     ]
    }
   ],
   "source": [
    "url = 'http://mattmahoney.net/dc/'\n",
    "\n",
    "def maybe_download(filename, expected_bytes):\n",
    "  \"\"\"Download a file if not present, and make sure it's the right size.\"\"\"\n",
    "  if not os.path.exists(filename):\n",
    "    filename, _ = urlretrieve(url + filename, filename)\n",
    "  statinfo = os.stat(filename)\n",
    "  if statinfo.st_size == expected_bytes:\n",
    "    print('Found and verified %s' % filename)\n",
    "  else:\n",
    "    print(statinfo.st_size)\n",
    "    raise Exception(\n",
    "      'Failed to verify ' + filename + '. Can you get to it with a browser?')\n",
    "  return filename\n",
    "\n",
    "filename = maybe_download('text8.zip', 31344016)"
   ]
  },
  {
   "cell_type": "markdown",
   "metadata": {
    "colab_type": "text",
    "deletable": true,
    "editable": true,
    "id": "Zqz3XiqI4mZT"
   },
   "source": [
    "Read the data into a string."
   ]
  },
  {
   "cell_type": "code",
   "execution_count": 3,
   "metadata": {
    "cellView": "both",
    "colab": {
     "autoexec": {
      "startup": false,
      "wait_interval": 0
     },
     "output_extras": [
      {
       "item_id": 1
      }
     ]
    },
    "colab_type": "code",
    "collapsed": false,
    "deletable": true,
    "editable": true,
    "executionInfo": {
     "elapsed": 28844,
     "status": "ok",
     "timestamp": 1445964497165,
     "user": {
      "color": "#1FA15D",
      "displayName": "Vincent Vanhoucke",
      "isAnonymous": false,
      "isMe": true,
      "permissionId": "05076109866853157986",
      "photoUrl": "//lh6.googleusercontent.com/-cCJa7dTDcgQ/AAAAAAAAAAI/AAAAAAAACgw/r2EZ_8oYer4/s50-c-k-no/photo.jpg",
      "sessionId": "2f1ffade4c9f20de",
      "userId": "102167687554210253930"
     },
     "user_tz": 420
    },
    "id": "Mvf09fjugFU_",
    "outputId": "e3a928b4-1645-4fe8-be17-fcf47de5716d"
   },
   "outputs": [
    {
     "name": "stdout",
     "output_type": "stream",
     "text": [
      "Data size 17005207\n"
     ]
    }
   ],
   "source": [
    "def read_data(filename):\n",
    "  \"\"\"Extract the first file enclosed in a zip file as a list of words\"\"\"\n",
    "  with zipfile.ZipFile(filename) as f:\n",
    "    data = tf.compat.as_str(f.read(f.namelist()[0])).split()\n",
    "  return data\n",
    "  \n",
    "words = read_data(filename)\n",
    "print('Data size %d' % len(words))"
   ]
  },
  {
   "cell_type": "markdown",
   "metadata": {
    "colab_type": "text",
    "deletable": true,
    "editable": true,
    "id": "Zdw6i4F8glpp"
   },
   "source": [
    "Build the dictionary and replace rare words with UNK token."
   ]
  },
  {
   "cell_type": "code",
   "execution_count": 4,
   "metadata": {
    "cellView": "both",
    "colab": {
     "autoexec": {
      "startup": false,
      "wait_interval": 0
     },
     "output_extras": [
      {
       "item_id": 1
      }
     ]
    },
    "colab_type": "code",
    "collapsed": false,
    "deletable": true,
    "editable": true,
    "executionInfo": {
     "elapsed": 28849,
     "status": "ok",
     "timestamp": 1445964497178,
     "user": {
      "color": "#1FA15D",
      "displayName": "Vincent Vanhoucke",
      "isAnonymous": false,
      "isMe": true,
      "permissionId": "05076109866853157986",
      "photoUrl": "//lh6.googleusercontent.com/-cCJa7dTDcgQ/AAAAAAAAAAI/AAAAAAAACgw/r2EZ_8oYer4/s50-c-k-no/photo.jpg",
      "sessionId": "2f1ffade4c9f20de",
      "userId": "102167687554210253930"
     },
     "user_tz": 420
    },
    "id": "gAL1EECXeZsD",
    "outputId": "3fb4ecd1-df67-44b6-a2dc-2291730970b2"
   },
   "outputs": [
    {
     "name": "stdout",
     "output_type": "stream",
     "text": [
      "Most common words (+UNK) [['UNK', 418391], ('the', 1061396), ('of', 593677), ('and', 416629), ('one', 411764)]\n",
      "Sample data [5239, 3084, 12, 6, 195, 2, 3137, 46, 59, 156]\n"
     ]
    }
   ],
   "source": [
    "vocabulary_size = 50000\n",
    "\n",
    "def build_dataset(words):\n",
    "  count = [['UNK', -1]]\n",
    "  count.extend(collections.Counter(words).most_common(vocabulary_size - 1))\n",
    "  dictionary = dict()\n",
    "  for word, _ in count:\n",
    "    dictionary[word] = len(dictionary)\n",
    "  data = list()\n",
    "  unk_count = 0\n",
    "  for word in words:\n",
    "    if word in dictionary:\n",
    "      index = dictionary[word]\n",
    "    else:\n",
    "      index = 0  # dictionary['UNK']\n",
    "      unk_count = unk_count + 1\n",
    "    data.append(index)\n",
    "  count[0][1] = unk_count\n",
    "  reverse_dictionary = dict(zip(dictionary.values(), dictionary.keys())) \n",
    "  return data, count, dictionary, reverse_dictionary\n",
    "\n",
    "data, count, dictionary, reverse_dictionary = build_dataset(words)\n",
    "print('Most common words (+UNK)', count[:5])\n",
    "print('Sample data', data[:10])\n",
    "del words  # Hint to reduce memory."
   ]
  },
  {
   "cell_type": "markdown",
   "metadata": {
    "colab_type": "text",
    "deletable": true,
    "editable": true,
    "id": "lFwoyygOmWsL"
   },
   "source": [
    "Function to generate a training batch for the skip-gram model."
   ]
  },
  {
   "cell_type": "code",
   "execution_count": 5,
   "metadata": {
    "cellView": "both",
    "colab": {
     "autoexec": {
      "startup": false,
      "wait_interval": 0
     },
     "output_extras": [
      {
       "item_id": 1
      }
     ]
    },
    "colab_type": "code",
    "collapsed": false,
    "deletable": true,
    "editable": true,
    "executionInfo": {
     "elapsed": 113,
     "status": "ok",
     "timestamp": 1445964901989,
     "user": {
      "color": "#1FA15D",
      "displayName": "Vincent Vanhoucke",
      "isAnonymous": false,
      "isMe": true,
      "permissionId": "05076109866853157986",
      "photoUrl": "//lh6.googleusercontent.com/-cCJa7dTDcgQ/AAAAAAAAAAI/AAAAAAAACgw/r2EZ_8oYer4/s50-c-k-no/photo.jpg",
      "sessionId": "2f1ffade4c9f20de",
      "userId": "102167687554210253930"
     },
     "user_tz": 420
    },
    "id": "w9APjA-zmfjV",
    "outputId": "67cccb02-cdaf-4e47-d489-43bcc8d57bb8"
   },
   "outputs": [
    {
     "name": "stdout",
     "output_type": "stream",
     "text": [
      "data: ['anarchism', 'originated', 'as', 'a', 'term', 'of', 'abuse', 'first']\n",
      "\n",
      "with num_skips = 2 and skip_window = 1:\n",
      "    batch: ['originated', 'originated', 'as', 'as', 'a', 'a', 'term', 'term']\n",
      "    labels: ['as', 'anarchism', 'originated', 'a', 'term', 'as', 'a', 'of']\n",
      "\n",
      "with num_skips = 4 and skip_window = 2:\n",
      "    batch: ['as', 'as', 'as', 'as', 'a', 'a', 'a', 'a']\n",
      "    labels: ['originated', 'term', 'anarchism', 'a', 'term', 'as', 'originated', 'of']\n"
     ]
    }
   ],
   "source": [
    "data_index = 0\n",
    "\n",
    "def generate_batch(batch_size, num_skips, skip_window):\n",
    "  global data_index\n",
    "  assert batch_size % num_skips == 0\n",
    "  assert num_skips <= 2 * skip_window\n",
    "  batch = np.ndarray(shape=(batch_size), dtype=np.int32)\n",
    "  labels = np.ndarray(shape=(batch_size, 1), dtype=np.int32)\n",
    "  span = 2 * skip_window + 1 # [ skip_window target skip_window ]\n",
    "  buffer = collections.deque(maxlen=span)\n",
    "  for _ in range(span):\n",
    "    buffer.append(data[data_index])\n",
    "    data_index = (data_index + 1) % len(data)\n",
    "  for i in range(batch_size // num_skips):\n",
    "    target = skip_window  # target label at the center of the buffer\n",
    "    targets_to_avoid = [ skip_window ]\n",
    "    for j in range(num_skips):\n",
    "      while target in targets_to_avoid:\n",
    "        target = random.randint(0, span - 1)\n",
    "      targets_to_avoid.append(target)\n",
    "      batch[i * num_skips + j] = buffer[skip_window]\n",
    "      labels[i * num_skips + j, 0] = buffer[target]\n",
    "    buffer.append(data[data_index])\n",
    "    data_index = (data_index + 1) % len(data)\n",
    "  return batch, labels\n",
    "\n",
    "print('data:', [reverse_dictionary[di] for di in data[:8]])\n",
    "\n",
    "for num_skips, skip_window in [(2, 1), (4, 2)]:\n",
    "    data_index = 0\n",
    "    batch, labels = generate_batch(batch_size=8, num_skips=num_skips, skip_window=skip_window)\n",
    "    print('\\nwith num_skips = %d and skip_window = %d:' % (num_skips, skip_window))\n",
    "    print('    batch:', [reverse_dictionary[bi] for bi in batch])\n",
    "    print('    labels:', [reverse_dictionary[li] for li in labels.reshape(8)])"
   ]
  },
  {
   "cell_type": "markdown",
   "metadata": {
    "colab_type": "text",
    "deletable": true,
    "editable": true,
    "id": "Ofd1MbBuwiva"
   },
   "source": [
    "Train a skip-gram model."
   ]
  },
  {
   "cell_type": "code",
   "execution_count": 6,
   "metadata": {
    "cellView": "both",
    "colab": {
     "autoexec": {
      "startup": false,
      "wait_interval": 0
     }
    },
    "colab_type": "code",
    "collapsed": true,
    "deletable": true,
    "editable": true,
    "id": "8pQKsV4Vwlzy"
   },
   "outputs": [],
   "source": [
    "batch_size = 128\n",
    "embedding_size = 128 # Dimension of the embedding vector.\n",
    "skip_window = 1 # How many words to consider left and right.\n",
    "num_skips = 2 # How many times to reuse an input to generate a label.\n",
    "# We pick a random validation set to sample nearest neighbors. here we limit the\n",
    "# validation samples to the words that have a low numeric ID, which by\n",
    "# construction are also the most frequent. \n",
    "valid_size = 16 # Random set of words to evaluate similarity on.\n",
    "valid_window = 100 # Only pick dev samples in the head of the distribution.\n",
    "valid_examples = np.array(random.sample(range(valid_window), valid_size))\n",
    "num_sampled = 64 # Number of negative examples to sample.\n",
    "\n",
    "graph = tf.Graph()\n",
    "\n",
    "with graph.as_default(), tf.device('/cpu:0'):\n",
    "\n",
    "  # Input data.\n",
    "  train_dataset = tf.placeholder(tf.int32, shape=[batch_size])\n",
    "  train_labels = tf.placeholder(tf.int32, shape=[batch_size, 1])\n",
    "  valid_dataset = tf.constant(valid_examples, dtype=tf.int32)\n",
    "  \n",
    "  # Variables.\n",
    "  embeddings = tf.Variable(\n",
    "    tf.random_uniform([vocabulary_size, embedding_size], -1.0, 1.0))\n",
    "  softmax_weights = tf.Variable(\n",
    "    tf.truncated_normal([vocabulary_size, embedding_size],\n",
    "                         stddev=1.0 / math.sqrt(embedding_size)))\n",
    "  softmax_biases = tf.Variable(tf.zeros([vocabulary_size]))\n",
    "  \n",
    "  # Model.\n",
    "  # Look up embeddings for inputs.\n",
    "  embed = tf.nn.embedding_lookup(embeddings, train_dataset)\n",
    "  # Compute the softmax loss, using a sample of the negative labels each time.\n",
    "  loss = tf.reduce_mean(\n",
    "    tf.nn.sampled_softmax_loss(weights=softmax_weights, biases=softmax_biases, inputs=embed,\n",
    "                               labels=train_labels, num_sampled=num_sampled, num_classes=vocabulary_size))\n",
    "\n",
    "  # Optimizer.\n",
    "  # Note: The optimizer will optimize the softmax_weights AND the embeddings.\n",
    "  # This is because the embeddings are defined as a variable quantity and the\n",
    "  # optimizer's `minimize` method will by default modify all variable quantities \n",
    "  # that contribute to the tensor it is passed.\n",
    "  # See docs on `tf.train.Optimizer.minimize()` for more details.\n",
    "  optimizer = tf.train.AdagradOptimizer(1.0).minimize(loss)\n",
    "  \n",
    "  # Compute the similarity between minibatch examples and all embeddings.\n",
    "  # We use the cosine distance:\n",
    "  norm = tf.sqrt(tf.reduce_sum(tf.square(embeddings), 1, keep_dims=True))\n",
    "  normalized_embeddings = embeddings / norm\n",
    "  valid_embeddings = tf.nn.embedding_lookup(\n",
    "    normalized_embeddings, valid_dataset)\n",
    "  similarity = tf.matmul(valid_embeddings, tf.transpose(normalized_embeddings))"
   ]
  },
  {
   "cell_type": "code",
   "execution_count": 7,
   "metadata": {
    "cellView": "both",
    "colab": {
     "autoexec": {
      "startup": false,
      "wait_interval": 0
     },
     "output_extras": [
      {
       "item_id": 23
      },
      {
       "item_id": 48
      },
      {
       "item_id": 61
      }
     ]
    },
    "colab_type": "code",
    "collapsed": false,
    "deletable": true,
    "editable": true,
    "executionInfo": {
     "elapsed": 436189,
     "status": "ok",
     "timestamp": 1445965429787,
     "user": {
      "color": "#1FA15D",
      "displayName": "Vincent Vanhoucke",
      "isAnonymous": false,
      "isMe": true,
      "permissionId": "05076109866853157986",
      "photoUrl": "//lh6.googleusercontent.com/-cCJa7dTDcgQ/AAAAAAAAAAI/AAAAAAAACgw/r2EZ_8oYer4/s50-c-k-no/photo.jpg",
      "sessionId": "2f1ffade4c9f20de",
      "userId": "102167687554210253930"
     },
     "user_tz": 420
    },
    "id": "1bQFGceBxrWW",
    "outputId": "5ebd6d9a-33c6-4bcd-bf6d-252b0b6055e4"
   },
   "outputs": [
    {
     "name": "stdout",
     "output_type": "stream",
     "text": [
      "Initialized\n",
      "Average loss at step 0: 7.970412\n",
      "Nearest to had: stanford, stipulates, slopes, sooty, pisces, boudin, iain, responsive,\n",
      "Nearest to their: batch, germinal, bohdan, alcal, truth, conducive, propyl, ainsworth,\n",
      "Nearest to can: endogamy, chalk, fatimids, spruce, mpla, drawing, cryptography, darth,\n",
      "Nearest to th: distillation, northerly, spalding, crts, wi, khmer, fort, irregularities,\n",
      "Nearest to many: visualize, hobbyists, fulfilled, bishops, clergy, avon, sweyn, covert,\n",
      "Nearest to all: mp, benson, remorse, aeneas, clausius, frontal, adobe, masurian,\n",
      "Nearest to often: sram, ren, hx, lander, interiors, laws, dudayev, gigantopithecus,\n",
      "Nearest to one: papyrus, apprehended, denaturation, gemstones, macrolides, exponentially, volatile, patrols,\n",
      "Nearest to up: nicknames, joab, fidesz, dilapidated, freedoms, kellerman, columnists, tribunes,\n",
      "Nearest to zero: sefer, slams, variational, cleaves, magnitude, gibbons, circumnavigation, nominees,\n",
      "Nearest to that: ido, fastest, specialties, sanctuaries, shawn, catalans, scarred, embarrassed,\n",
      "Nearest to and: usual, albret, elitism, galapagos, kos, worthy, tradition, firemen,\n",
      "Nearest to been: greensboro, chekhov, application, torus, uae, protagoras, varnothing, opposite,\n",
      "Nearest to united: rudyard, complementing, hafnium, repaired, archaeology, quartet, bazin, slow,\n",
      "Nearest to i: tupolev, gold, asthma, nazarene, paced, nets, hawks, libels,\n",
      "Nearest to on: sympathizer, unspeakable, posted, erstwhile, antlia, certainty, brackish, councilor,\n",
      "Average loss at step 2000: 4.367983\n",
      "Average loss at step 4000: 3.866669\n",
      "Average loss at step 6000: 3.791174\n",
      "Average loss at step 8000: 3.693054\n",
      "Average loss at step 10000: 3.616564\n",
      "Nearest to had: have, has, was, were, mitochondrial, bigcup, iain, slopes,\n",
      "Nearest to their: his, its, her, the, germinal, hg, shift, some,\n",
      "Nearest to can: would, may, could, must, predetermined, endogamy, might, will,\n",
      "Nearest to th: distillation, sanders, spalding, neurotransmitters, three, irregularities, rocking, lavender,\n",
      "Nearest to many: sterile, clergy, some, occultation, quota, canals, governess, albeit,\n",
      "Nearest to all: planetary, bugatti, sofa, mp, syllabus, psychiatry, palsy, tricky,\n",
      "Nearest to often: who, sometimes, sram, scherzo, overcrowding, hx, hateful, also,\n",
      "Nearest to one: three, eight, two, six, four, seven, five, aster,\n",
      "Nearest to up: nicknames, freedoms, joab, deeps, kellerman, dilapidated, columnists, various,\n",
      "Nearest to zero: five, eight, seven, six, nine, four, three, two,\n",
      "Nearest to that: which, this, it, annual, fastest, methods, travelling, what,\n",
      "Nearest to and: or, sab, platonism, austere, s, invades, summing, micronesia,\n",
      "Nearest to been: be, by, were, uae, torus, prayers, brahman, obrzeg,\n",
      "Nearest to united: rudyard, bazin, quincey, kabul, essential, reviewer, hafnium, shrugged,\n",
      "Nearest to i: dhea, nets, highbury, alter, racers, jun, pens, covenants,\n",
      "Nearest to on: in, with, vladislav, deeps, pledges, after, at, act,\n",
      "Average loss at step 12000: 3.604386\n",
      "Average loss at step 14000: 3.576103\n",
      "Average loss at step 16000: 3.412124\n",
      "Average loss at step 18000: 3.454916\n",
      "Average loss at step 20000: 3.541674\n",
      "Nearest to had: has, have, was, were, mitochondrial, stave, having, nashe,\n",
      "Nearest to their: his, its, her, germinal, the, some, hg, any,\n",
      "Nearest to can: may, would, could, will, must, should, might, are,\n",
      "Nearest to th: distillation, sanders, lavender, three, actinides, rocking, unidad, benz,\n",
      "Nearest to many: some, several, these, all, canals, most, sterile, quota,\n",
      "Nearest to all: planetary, many, these, acupuncture, bugatti, some, descendent, because,\n",
      "Nearest to often: sometimes, who, sram, still, also, commonly, there, now,\n",
      "Nearest to one: two, four, seven, eight, three, five, six, nine,\n",
      "Nearest to up: describe, dilapidated, aden, deeps, freedoms, jody, matth, back,\n",
      "Nearest to zero: five, six, seven, four, three, nine, eight, two,\n",
      "Nearest to that: which, what, fastest, however, but, masoretic, halogens, annual,\n",
      "Nearest to and: or, but, in, which, were, with, from, typically,\n",
      "Nearest to been: be, were, being, by, was, uae, prayers, obrzeg,\n",
      "Nearest to united: rudyard, same, bazin, aching, sanctions, kabul, quincey, taoist,\n",
      "Nearest to i: ii, alter, we, fugitive, stoppage, highbury, hawks, strumming,\n",
      "Nearest to on: in, at, vladislav, upon, inaccuracies, pledges, mohs, kibbutz,\n",
      "Average loss at step 22000: 3.502932\n",
      "Average loss at step 24000: 3.492789\n",
      "Average loss at step 26000: 3.482194\n",
      "Average loss at step 28000: 3.477939\n",
      "Average loss at step 30000: 3.507975\n",
      "Nearest to had: have, has, was, were, having, been, zaman, never,\n",
      "Nearest to their: its, his, the, her, some, any, germinal, many,\n",
      "Nearest to can: may, would, could, will, must, should, might, cannot,\n",
      "Nearest to th: six, sanders, bce, lavender, greyface, fraternity, benz, sicilies,\n",
      "Nearest to many: some, several, these, most, various, their, sterile, canals,\n",
      "Nearest to all: some, bugatti, these, masoretic, both, out, any, igm,\n",
      "Nearest to often: sometimes, also, usually, still, commonly, who, there, sram,\n",
      "Nearest to one: two, four, seven, three, eight, six, nine, five,\n",
      "Nearest to up: back, matth, describe, aden, jody, wish, dilapidated, them,\n",
      "Nearest to zero: five, eight, four, seven, six, three, nine, two,\n",
      "Nearest to that: which, this, what, however, if, but, kilimanjaro, fastest,\n",
      "Nearest to and: or, but, in, from, who, rantissi, presuppose, couturat,\n",
      "Nearest to been: were, become, be, was, by, prayers, had, uae,\n",
      "Nearest to united: rudyard, nfc, sanctions, european, same, taoist, aching, quincey,\n",
      "Nearest to i: ii, t, we, alter, homogenized, g, sequestered, they,\n",
      "Nearest to on: in, upon, through, inaccuracies, enacting, regarding, dynamic, at,\n",
      "Average loss at step 32000: 3.499785\n",
      "Average loss at step 34000: 3.494045\n",
      "Average loss at step 36000: 3.455538\n",
      "Average loss at step 38000: 3.303270\n",
      "Average loss at step 40000: 3.430168\n",
      "Nearest to had: has, have, was, having, were, been, merleau, divx,\n",
      "Nearest to their: its, his, her, the, many, any, both, panamanian,\n",
      "Nearest to can: may, would, could, will, must, should, might, cannot,\n",
      "Nearest to th: fraternity, sanders, bce, benz, lavender, distillation, nd, ubiquity,\n",
      "Nearest to many: some, several, these, various, most, their, each, canals,\n",
      "Nearest to all: both, masoretic, these, out, some, mp, chao, suvs,\n",
      "Nearest to often: sometimes, usually, who, commonly, still, also, there, widely,\n",
      "Nearest to one: seven, six, four, two, five, three, eight, nine,\n",
      "Nearest to up: back, them, out, matth, aden, dilapidated, jabberwocky, jody,\n",
      "Nearest to zero: five, seven, eight, nine, three, six, four, two,\n",
      "Nearest to that: which, what, this, however, because, where, why, pivot,\n",
      "Nearest to and: or, but, like, pp, lothar, tocharians, wissenschaft, who,\n",
      "Nearest to been: become, was, be, were, already, prayers, had, being,\n",
      "Nearest to united: rudyard, nfc, sanctions, taoist, european, aching, reviewer, same,\n",
      "Nearest to i: ii, we, t, they, he, you, homogenized, sequestered,\n",
      "Nearest to on: upon, at, in, vladislav, dynamic, about, from, during,\n",
      "Average loss at step 42000: 3.434717\n",
      "Average loss at step 44000: 3.452115\n",
      "Average loss at step 46000: 3.448626\n",
      "Average loss at step 48000: 3.357615\n",
      "Average loss at step 50000: 3.384411\n",
      "Nearest to had: has, have, was, having, were, been, mangrove, would,\n",
      "Nearest to their: its, his, her, the, your, panamanian, any, both,\n",
      "Nearest to can: may, would, could, will, must, should, might, cannot,\n",
      "Nearest to th: bce, fraternity, sanders, six, benz, lavender, bc, zelazny,\n",
      "Nearest to many: some, several, these, various, most, those, both, canals,\n",
      "Nearest to all: both, suvs, radiometric, these, any, every, some, everlast,\n",
      "Nearest to often: sometimes, usually, commonly, generally, now, still, widely, also,\n",
      "Nearest to one: two, six, four, eight, seven, five, three, nine,\n",
      "Nearest to up: out, them, back, off, describe, dilapidated, aden, jody,\n",
      "Nearest to zero: five, seven, six, eight, four, nine, three, two,\n",
      "Nearest to that: which, however, where, what, this, fastest, because, how,\n",
      "Nearest to and: or, but, while, transnistria, including, lothar, of, stereochemistry,\n",
      "Nearest to been: become, be, was, were, already, prayers, had, begun,\n",
      "Nearest to united: rudyard, nfc, sanctions, taoist, refreshed, aching, lisa, cleft,\n",
      "Nearest to i: we, ii, t, you, g, they, he, homogenized,\n",
      "Nearest to on: upon, in, through, into, at, vladislav, regarding, elliptic,\n",
      "Average loss at step 52000: 3.439216\n",
      "Average loss at step 54000: 3.429497\n",
      "Average loss at step 56000: 3.436998\n",
      "Average loss at step 58000: 3.394090\n",
      "Average loss at step 60000: 3.395291\n",
      "Nearest to had: has, have, was, were, having, wanted, qos, been,\n",
      "Nearest to their: its, his, her, the, your, panamanian, some, any,\n",
      "Nearest to can: may, could, would, will, must, should, might, cannot,\n",
      "Nearest to th: bce, bc, fraternity, nd, five, lavender, benz, isbn,\n",
      "Nearest to many: some, several, these, various, most, including, numerous, those,\n",
      "Nearest to all: both, some, any, these, every, venona, multiple, those,\n",
      "Nearest to often: usually, sometimes, commonly, now, generally, still, also, frequently,\n",
      "Nearest to one: two, four, eight, six, seven, five, three, nine,\n",
      "Nearest to up: out, back, off, them, minyan, dilapidated, describe, forty,\n",
      "Nearest to zero: five, eight, six, four, seven, three, nine, two,\n",
      "Nearest to that: which, what, this, however, it, there, who, where,\n",
      "Nearest to and: or, but, than, stereochemistry, including, although, rantissi, lothar,\n",
      "Nearest to been: become, be, were, was, already, prayers, had, impinging,\n",
      "Nearest to united: sanctions, nfc, rudyard, taoist, same, european, cleft, loads,\n",
      "Nearest to i: we, ii, you, g, they, t, bradman, oint,\n",
      "Nearest to on: upon, in, through, regarding, vladislav, duel, brackish, elliptic,\n",
      "Average loss at step 62000: 3.241680\n",
      "Average loss at step 64000: 3.253828\n",
      "Average loss at step 66000: 3.402577\n",
      "Average loss at step 68000: 3.395388\n",
      "Average loss at step 70000: 3.364077\n",
      "Nearest to had: has, have, was, having, were, wanted, qos, received,\n",
      "Nearest to their: its, his, her, the, your, panamanian, some, any,\n",
      "Nearest to can: may, could, will, would, must, should, might, cannot,\n",
      "Nearest to th: bc, bce, fraternity, lavender, nd, fifth, benz, one,\n",
      "Nearest to many: some, several, these, various, most, all, numerous, those,\n",
      "Nearest to all: some, many, any, various, every, masoretic, these, both,\n",
      "Nearest to often: usually, sometimes, commonly, now, generally, frequently, still, typically,\n",
      "Nearest to one: two, six, seven, eight, four, nine, five, three,\n",
      "Nearest to up: out, back, off, them, minyan, describe, down, forty,\n",
      "Nearest to zero: five, eight, six, four, seven, two, nine, three,\n",
      "Nearest to that: which, however, what, but, this, where, also, there,\n",
      "Nearest to and: or, but, like, which, while, zar, stereochemistry, lothar,\n",
      "Nearest to been: become, be, were, was, already, existed, prayers, recently,\n",
      "Nearest to united: sanctions, same, lisa, nfc, loads, cleft, european, rudyard,\n",
      "Nearest to i: we, ii, g, you, cox, flared, absorbs, wahhabism,\n",
      "Nearest to on: upon, through, in, gab, at, deeps, brackish, interprets,\n",
      "Average loss at step 72000: 3.372465\n",
      "Average loss at step 74000: 3.346272\n",
      "Average loss at step 76000: 3.318202\n",
      "Average loss at step 78000: 3.348652\n",
      "Average loss at step 80000: 3.377436\n",
      "Nearest to had: has, have, were, having, was, wanted, qos, magnetically,\n",
      "Nearest to their: its, his, her, your, panamanian, our, the, my,\n",
      "Nearest to can: could, may, will, would, must, might, should, cannot,\n",
      "Nearest to th: bc, bce, fraternity, nd, benz, fifth, nineteenth, one,\n",
      "Nearest to many: some, several, various, these, most, numerous, those, objectivity,\n",
      "Nearest to all: every, both, some, various, any, each, many, multiple,\n",
      "Nearest to often: usually, sometimes, commonly, now, generally, frequently, typically, still,\n",
      "Nearest to one: seven, six, two, three, eight, four, five, nine,\n",
      "Nearest to up: out, off, back, them, down, minyan, jabberwocky, matth,\n",
      "Nearest to zero: seven, six, five, eight, three, four, nine, two,\n",
      "Nearest to that: which, however, where, this, what, collaborations, why, pushes,\n",
      "Nearest to and: or, while, but, including, than, lothar, transnistria, awaited,\n",
      "Nearest to been: become, be, was, prayers, devoiced, already, existed, begun,\n",
      "Nearest to united: same, sanctions, nfc, lisa, taoist, cleft, loads, european,\n",
      "Nearest to i: we, you, ii, t, g, they, goldwyn, dubuque,\n",
      "Nearest to on: upon, in, through, at, gab, quartic, during, under,\n",
      "Average loss at step 82000: 3.407779\n",
      "Average loss at step 84000: 3.410085\n",
      "Average loss at step 86000: 3.390177\n",
      "Average loss at step 88000: 3.352700\n",
      "Average loss at step 90000: 3.368239\n",
      "Nearest to had: has, have, was, were, having, wanted, never, divx,\n",
      "Nearest to their: its, his, her, your, our, panamanian, the, whose,\n",
      "Nearest to can: may, could, will, would, might, must, should, cannot,\n",
      "Nearest to th: bce, bc, fraternity, nd, st, nineteenth, fifth, one,\n",
      "Nearest to many: some, several, numerous, various, these, all, most, those,\n",
      "Nearest to all: some, every, many, any, several, these, both, masoretic,\n",
      "Nearest to often: sometimes, usually, commonly, generally, now, frequently, typically, still,\n",
      "Nearest to one: seven, eight, two, six, four, three, nine, five,\n",
      "Nearest to up: out, off, back, down, them, away, minyan, matth,\n",
      "Nearest to zero: eight, five, seven, six, four, nine, three, two,\n",
      "Nearest to that: which, however, why, what, pushes, kilimanjaro, pivot, collaborations,\n",
      "Nearest to and: or, but, including, transnistria, while, verdicts, lothar, sab,\n",
      "Nearest to been: become, be, already, devoiced, was, prayers, begun, crt,\n",
      "Nearest to united: nfc, same, sanctions, lisa, taoist, cleft, refreshed, klingon,\n",
      "Nearest to i: we, g, ii, you, p, t, agarose, mathrm,\n",
      "Nearest to on: upon, regarding, at, brackish, under, quartic, in, predicting,\n",
      "Average loss at step 92000: 3.398986\n",
      "Average loss at step 94000: 3.251825\n",
      "Average loss at step 96000: 3.358314\n",
      "Average loss at step 98000: 3.243628\n",
      "Average loss at step 100000: 3.353273\n",
      "Nearest to had: has, have, was, having, were, did, would, never,\n",
      "Nearest to their: its, his, her, your, our, the, panamanian, my,\n",
      "Nearest to can: could, may, will, would, must, might, should, cannot,\n",
      "Nearest to th: bc, nd, bce, one, fraternity, benz, rd, st,\n",
      "Nearest to many: some, several, various, numerous, these, few, those, all,\n",
      "Nearest to all: every, any, many, some, various, these, several, multiple,\n",
      "Nearest to often: sometimes, usually, commonly, generally, now, frequently, typically, still,\n",
      "Nearest to one: two, seven, four, eight, nine, three, five, six,\n",
      "Nearest to up: out, off, back, them, down, away, him, minyan,\n",
      "Nearest to zero: five, seven, eight, six, four, nine, two, three,\n",
      "Nearest to that: which, however, what, why, kilimanjaro, where, pushes, who,\n",
      "Nearest to and: or, but, although, while, however, when, who, transnistria,\n",
      "Nearest to been: become, be, already, was, recently, devoiced, prayers, received,\n",
      "Nearest to united: nfc, same, sanctions, taoist, lisa, loads, cleft, klingon,\n",
      "Nearest to i: we, you, ii, they, t, he, g, slips,\n",
      "Nearest to on: upon, in, at, maka, through, gab, within, during,\n"
     ]
    }
   ],
   "source": [
    "num_steps = 100001\n",
    "\n",
    "with tf.Session(graph=graph) as session:\n",
    "  tf.global_variables_initializer().run()\n",
    "  print('Initialized')\n",
    "  average_loss = 0\n",
    "  for step in range(num_steps):\n",
    "    batch_data, batch_labels = generate_batch(\n",
    "      batch_size, num_skips, skip_window)\n",
    "    feed_dict = {train_dataset : batch_data, train_labels : batch_labels}\n",
    "    _, l = session.run([optimizer, loss], feed_dict=feed_dict)\n",
    "    average_loss += l\n",
    "    if step % 2000 == 0:\n",
    "      if step > 0:\n",
    "        average_loss = average_loss / 2000\n",
    "      # The average loss is an estimate of the loss over the last 2000 batches.\n",
    "      print('Average loss at step %d: %f' % (step, average_loss))\n",
    "      average_loss = 0\n",
    "    # note that this is expensive (~20% slowdown if computed every 500 steps)\n",
    "    if step % 10000 == 0:\n",
    "      sim = similarity.eval()\n",
    "      for i in range(valid_size):\n",
    "        valid_word = reverse_dictionary[valid_examples[i]]\n",
    "        top_k = 8 # number of nearest neighbors\n",
    "        nearest = (-sim[i, :]).argsort()[1:top_k+1]\n",
    "        log = 'Nearest to %s:' % valid_word\n",
    "        for k in range(top_k):\n",
    "          close_word = reverse_dictionary[nearest[k]]\n",
    "          log = '%s %s,' % (log, close_word)\n",
    "        print(log)\n",
    "  final_embeddings_skip_gram = normalized_embeddings.eval()"
   ]
  },
  {
   "cell_type": "code",
   "execution_count": 10,
   "metadata": {
    "cellView": "both",
    "colab": {
     "autoexec": {
      "startup": false,
      "wait_interval": 0
     }
    },
    "colab_type": "code",
    "collapsed": false,
    "deletable": true,
    "editable": true,
    "id": "jjJXYA_XzV79"
   },
   "outputs": [],
   "source": [
    "num_points = 400\n",
    "\n",
    "tsne = TSNE(perplexity=30, n_components=2, init='pca', n_iter=5000)\n",
    "two_d_embeddings = tsne.fit_transform(final_embeddings_skip_gram[1:num_points+1, :])"
   ]
  },
  {
   "cell_type": "code",
   "execution_count": 11,
   "metadata": {
    "cellView": "both",
    "colab": {
     "autoexec": {
      "startup": false,
      "wait_interval": 0
     },
     "output_extras": [
      {
       "item_id": 1
      }
     ]
    },
    "colab_type": "code",
    "collapsed": false,
    "deletable": true,
    "editable": true,
    "executionInfo": {
     "elapsed": 4763,
     "status": "ok",
     "timestamp": 1445965465525,
     "user": {
      "color": "#1FA15D",
      "displayName": "Vincent Vanhoucke",
      "isAnonymous": false,
      "isMe": true,
      "permissionId": "05076109866853157986",
      "photoUrl": "//lh6.googleusercontent.com/-cCJa7dTDcgQ/AAAAAAAAAAI/AAAAAAAACgw/r2EZ_8oYer4/s50-c-k-no/photo.jpg",
      "sessionId": "2f1ffade4c9f20de",
      "userId": "102167687554210253930"
     },
     "user_tz": 420
    },
    "id": "o_e0D_UezcDe",
    "outputId": "df22e4a5-e8ec-4e5e-d384-c6cf37c68c34"
   },
   "outputs": [
    {
     "data": {
      "image/png": "[encoded data removed]",
      "text/plain": [
       "<matplotlib.figure.Figure at 0x7f373c37d410>"
      ]
     },
     "metadata": {},
     "output_type": "display_data"
    }
   ],
   "source": [
    "def plot(embeddings, labels):\n",
    "  assert embeddings.shape[0] >= len(labels), 'More labels than embeddings'\n",
    "  pylab.figure(figsize=(15,15))  # in inches\n",
    "  for i, label in enumerate(labels):\n",
    "    x, y = embeddings[i,:]\n",
    "    pylab.scatter(x, y)\n",
    "    pylab.annotate(label, xy=(x, y), xytext=(5, 2), textcoords='offset points',\n",
    "                   ha='right', va='bottom')\n",
    "  pylab.show()\n",
    "\n",
    "words = [reverse_dictionary[i] for i in range(1, num_points+1)]\n",
    "plot(two_d_embeddings, words)"
   ]
  },
  {
   "cell_type": "markdown",
   "metadata": {
    "colab_type": "text",
    "deletable": true,
    "editable": true,
    "id": "QB5EFrBnpNnc"
   },
   "source": [
    "---\n",
    "\n",
    "Problem\n",
    "-------\n",
    "\n",
    "An alternative to skip-gram is another Word2Vec model called [CBOW](http://arxiv.org/abs/1301.3781) (Continuous Bag of Words). In the CBOW model, instead of predicting a context word from a word vector, you predict a word from the sum of all the word vectors in its context. Implement and evaluate a CBOW model trained on the text8 dataset.\n",
    "\n",
    "---"
   ]
  },
  {
   "cell_type": "markdown",
   "metadata": {
    "deletable": true,
    "editable": true
   },
   "source": [
    "So in the skip-gram model, we created a correspondance between a word (vector) and another word (vector) chosen in the same context. The \"context\" here was basically one word before or after. The role of the neural net was then to predict what is the most likely word coming before or after a given word. Using the softmax function, the network was actually outputing a probability distribution on words and the most likely words could be interpreted as the \"context\".\n",
    "\n",
    "In the CBOW formulation, we will predict a word from its context. Hence the input is not a single word vector, but the sum of several word (vectors). Let's say we want to predict word $w_i$ from a sentence, the context will be $w_{i-2}$, $w_{i-1}$, $w_{i+1}$ and $w_{i+2}$. The input will be the sum of the word vectors of the context, while the labels will be the vector corresponding to the word $w_i$.\n",
    "\n",
    "To achieve this, we first need to rewrite the batch generation function."
   ]
  },
  {
   "cell_type": "code",
   "execution_count": 12,
   "metadata": {
    "collapsed": false,
    "deletable": true,
    "editable": true
   },
   "outputs": [
    {
     "name": "stdout",
     "output_type": "stream",
     "text": [
      "data: ['anarchism', 'originated', 'as', 'a', 'term', 'of', 'abuse', 'first']\n",
      "\n",
      "with num_skips = 2 and skip_window = 1:\n",
      "    batch: [('anarchism', 'as'), ('originated', 'a'), ('as', 'term'), ('a', 'of'), ('term', 'abuse'), ('of', 'first')]\n",
      "    labels: ['originated', 'as', 'a', 'term', 'of', 'abuse']\n"
     ]
    }
   ],
   "source": [
    "data_index = 0\n",
    "\n",
    "def generate_batch_cbow(batch_size, num_skips, skip_window):\n",
    "  global data_index\n",
    "  assert batch_size % num_skips == 0\n",
    "  assert num_skips <= 2 * skip_window\n",
    "  batch = np.ndarray(shape=(batch_size-2,num_skips), dtype=np.int32)\n",
    "  labels = np.ndarray(shape=(batch_size-2,1), dtype=np.int32)\n",
    "  span = 2 * skip_window + 1 # [ skip_window target skip_window ]\n",
    "  for i in range(batch_size-2): # // num_skips\n",
    "    buffer = collections.deque(maxlen=span)\n",
    "    for _ in range(span):\n",
    "        buffer.append(data[data_index+_])\n",
    "    target = skip_window  # target label at the center of the buffer\n",
    "    batch[i,:] = [buffer[j] for j in range(span) if j != target]\n",
    "    labels[i,0] = buffer[target]\n",
    "    data_index = (data_index + 1) % len(data)\n",
    "  return batch, labels\n",
    "\n",
    "\n",
    "print('data:', [reverse_dictionary[di] for di in data[:8]])\n",
    "\n",
    "for num_skips, skip_window in [(2, 1)]:\n",
    "    data_index = 0\n",
    "    batch, labels = generate_batch_cbow(batch_size=8, num_skips=num_skips, skip_window=skip_window)\n",
    "    print('\\nwith num_skips = %d and skip_window = %d:' % (num_skips, skip_window))\n",
    "    print('    batch:', [(reverse_dictionary[bi[0]],reverse_dictionary[bi[1]]) for bi in batch])\n",
    "    print('    labels:', [reverse_dictionary[li] for li in labels.reshape(6)])"
   ]
  },
  {
   "cell_type": "markdown",
   "metadata": {
    "deletable": true,
    "editable": true
   },
   "source": [
    "Next we can train a skip-gram model. Note that the architecture of the network is identical, only the shape of the inputs is different."
   ]
  },
  {
   "cell_type": "code",
   "execution_count": 13,
   "metadata": {
    "collapsed": true,
    "deletable": true,
    "editable": true
   },
   "outputs": [],
   "source": [
    "batch_size = 128\n",
    "embedding_size = 128 # Dimension of the embedding vector.\n",
    "context_window = 1 # How many words to consider left and right.\n",
    "context_size = 2 # How many times to reuse an input to generate a label.\n",
    "# We pick a random validation set to sample nearest neighbors. here we limit the\n",
    "# validation samples to the words that have a low numeric ID, which by\n",
    "# construction are also the most frequent. \n",
    "valid_size = 16 # Random set of words to evaluate similarity on.\n",
    "valid_window = 100 # Only pick dev samples in the head of the distribution.\n",
    "valid_examples = np.array(random.sample(range(valid_window), valid_size))\n",
    "num_sampled = 64 # Number of negative examples to sample.\n",
    "\n",
    "graph = tf.Graph()\n",
    "\n",
    "with graph.as_default(), tf.device('/cpu:0'):\n",
    "\n",
    "  # Input data.\n",
    "  train_dataset = tf.placeholder(tf.int32, shape=[batch_size-2,context_size])\n",
    "  train_labels = tf.placeholder(tf.int32, shape=[batch_size-2, 1])\n",
    "  valid_dataset = tf.constant(valid_examples, dtype=tf.int32)\n",
    "  \n",
    "  # Variables.\n",
    "  embeddings = tf.Variable(\n",
    "    tf.random_uniform([vocabulary_size, embedding_size], -1.0, 1.0))\n",
    "  softmax_weights = tf.Variable(\n",
    "    tf.truncated_normal([vocabulary_size, embedding_size],\n",
    "                         stddev=1.0 / math.sqrt(embedding_size)))\n",
    "  softmax_biases = tf.Variable(tf.zeros([vocabulary_size]))\n",
    "  \n",
    "  # Model.\n",
    "  # Look up embeddings for inputs.\n",
    "  embed = tf.nn.embedding_lookup(embeddings, train_dataset)\n",
    "  embed_context = tf.reduce_mean(embed, 1)\n",
    "  \n",
    "  # Compute the softmax loss, using a sample of the negative labels each time.\n",
    "  loss = tf.reduce_mean(\n",
    "    tf.nn.sampled_softmax_loss(weights=softmax_weights, biases=softmax_biases, inputs=embed_context,\n",
    "                               labels=train_labels, num_sampled=num_sampled, num_classes=vocabulary_size))\n",
    "\n",
    "  # Optimizer.\n",
    "  # Note: The optimizer will optimize the softmax_weights AND the embeddings.\n",
    "  # This is because the embeddings are defined as a variable quantity and the\n",
    "  # optimizer's `minimize` method will by default modify all variable quantities \n",
    "  # that contribute to the tensor it is passed.\n",
    "  # See docs on `tf.train.Optimizer.minimize()` for more details.\n",
    "  optimizer = tf.train.AdagradOptimizer(1.0).minimize(loss)\n",
    "  \n",
    "  # Compute the similarity between minibatch examples and all embeddings.\n",
    "  # We use the cosine distance:\n",
    "  norm = tf.sqrt(tf.reduce_sum(tf.square(embeddings), 1, keep_dims=True))\n",
    "  normalized_embeddings = embeddings / norm\n",
    "  valid_embeddings = tf.nn.embedding_lookup(\n",
    "    normalized_embeddings, valid_dataset)\n",
    "  similarity = tf.matmul(valid_embeddings, tf.transpose(normalized_embeddings))"
   ]
  },
  {
   "cell_type": "code",
   "execution_count": 14,
   "metadata": {
    "collapsed": false,
    "deletable": true,
    "editable": true
   },
   "outputs": [
    {
     "name": "stdout",
     "output_type": "stream",
     "text": [
      "Initialized\n",
      "Average loss at step 0: 7.725165\n",
      "Nearest to five: brunel, vaikundar, heliports, inferred, sun, apostol, predefined, tou,\n",
      "Nearest to on: porta, marche, fu, quay, bauxite, nostra, meine, keeshond,\n",
      "Nearest to system: minimally, embalming, kary, poorer, approaches, sade, gymnast, object,\n",
      "Nearest to united: alighieri, linebacker, javan, superpowers, bodies, ideally, codeine, habitats,\n",
      "Nearest to but: intimately, ghidorah, stuck, ceased, decentralisation, communicator, replacement, hiring,\n",
      "Nearest to will: petrels, monatomic, iupac, brennan, widowed, enlist, fruitarians, moorland,\n",
      "Nearest to years: hasdrubal, overloaded, turpentine, mortis, extremity, antidote, comply, realizing,\n",
      "Nearest to known: elway, risky, stripper, enjoyed, flair, hymenoptera, northumbria, bbses,\n",
      "Nearest to was: sinan, winchester, impressively, favre, athos, jer, islander, blend,\n",
      "Nearest to three: pens, mutagens, training, serial, beacon, drinkers, measured, wakefield,\n",
      "Nearest to are: mug, stenella, breakbeat, playhouse, armin, amplifiers, bach, adventists,\n",
      "Nearest to than: nausica, neuropsychological, europeans, zondervan, chengdu, chipmunk, pilots, doomed,\n",
      "Nearest to a: unravel, easton, resemblance, midwifery, cockpit, peleus, bennington, sunny,\n",
      "Nearest to of: milli, thorpe, aggadic, elliott, russel, instinct, sha, fertilization,\n",
      "Nearest to such: bologna, inaccuracies, shamans, appoints, consubstantiation, polemical, yoshinkan, unhelpful,\n",
      "Nearest to from: tala, brakes, starring, epistle, collectible, cummings, dymaxion, kernow,\n",
      "Average loss at step 2000: 4.035599\n",
      "Average loss at step 4000: 3.508953\n",
      "Average loss at step 6000: 3.335843\n",
      "Average loss at step 8000: 3.213650\n",
      "Average loss at step 10000: 3.114754\n",
      "Nearest to five: four, three, eight, six, nine, zero, seven, two,\n",
      "Nearest to on: in, under, hebrew, against, inr, seater, lisboa, precepts,\n",
      "Nearest to system: minimally, object, sade, lawmaking, nicolai, gymnast, poorer, transcended,\n",
      "Nearest to united: alighieri, kurtz, same, mandola, linebacker, habitable, habitats, morgenstern,\n",
      "Nearest to but: via, beno, specimen, rss, and, intimately, occured, thus,\n",
      "Nearest to will: can, would, may, petrels, could, might, themed, widowed,\n",
      "Nearest to years: antidote, lipschitz, tex, predictions, hasdrubal, players, terraced, zoltan,\n",
      "Nearest to known: used, well, flair, such, frankenstein, lackluster, sublime, listed,\n",
      "Nearest to was: is, has, had, were, became, sybase, lustrous, been,\n",
      "Nearest to three: four, five, six, two, eight, nine, zero, seven,\n",
      "Nearest to are: were, is, have, stenella, ott, stratocaster, turbofans, restricting,\n",
      "Nearest to than: nausica, europeans, vagantes, feeding, clocked, islands, knox, hardy,\n",
      "Nearest to a: the, easton, forbes, unravel, aor, any, silverstein, crystallizes,\n",
      "Nearest to of: loosened, national, rigged, in, constantius, indelible, counsellors, including,\n",
      "Nearest to such: possible, known, far, shamans, leaving, bologna, well, appoints,\n",
      "Nearest to from: between, tala, by, into, decibels, after, guan, sel,\n",
      "Average loss at step 12000: 3.159184\n",
      "Average loss at step 14000: 3.126304\n",
      "Average loss at step 16000: 3.116362\n",
      "Average loss at step 18000: 3.115229\n",
      "Average loss at step 20000: 2.970748\n",
      "Nearest to five: four, six, three, eight, seven, nine, zero, two,\n",
      "Nearest to on: upon, in, against, under, inr, from, seater, during,\n",
      "Nearest to system: object, minimally, sade, transcended, nicolai, systems, organism, routing,\n",
      "Nearest to united: same, kurtz, alighieri, linebacker, highest, javan, habitable, wrought,\n",
      "Nearest to but: however, and, via, plantae, attachments, established, screenplay, manhood,\n",
      "Nearest to will: would, can, may, could, might, should, must, petrels,\n",
      "Nearest to years: antidote, lipschitz, tex, predictions, zoltan, times, hasdrubal, syndicates,\n",
      "Nearest to known: used, well, flair, listed, such, lackluster, frankenstein, embellished,\n",
      "Nearest to was: is, has, had, were, became, be, been, sybase,\n",
      "Nearest to three: four, five, six, two, seven, eight, nine, zero,\n",
      "Nearest to are: were, have, is, ott, qualifying, be, npc, stratocaster,\n",
      "Nearest to than: nausica, clocked, cilicia, europeans, kalat, or, imbolc, knox,\n",
      "Nearest to a: any, easton, no, unravel, aor, another, the, confirm,\n",
      "Nearest to of: counsellors, sha, gah, explored, shevardnadze, constantius, meritocratic, salted,\n",
      "Nearest to such: these, possible, known, many, zeist, well, shamans, regarded,\n",
      "Nearest to from: into, through, between, tala, guan, on, shorts, in,\n",
      "Average loss at step 22000: 3.059975\n",
      "Average loss at step 24000: 3.043868\n",
      "Average loss at step 26000: 2.989878\n",
      "Average loss at step 28000: 2.979656\n",
      "Average loss at step 30000: 2.995887\n",
      "Nearest to five: four, six, three, eight, seven, zero, nine, two,\n",
      "Nearest to on: upon, in, seater, against, jose, bypasses, inr, at,\n",
      "Nearest to system: systems, object, minimally, lawmaking, montenegrins, hbk, gymnast, sade,\n",
      "Nearest to united: kurtz, same, highest, next, alighieri, wrought, linebacker, bragg,\n",
      "Nearest to but: however, and, manhood, via, although, though, turbines, plantae,\n",
      "Nearest to will: would, can, may, could, might, should, must, cannot,\n",
      "Nearest to years: antidote, days, lipschitz, zoltan, times, predictions, tex, months,\n",
      "Nearest to known: used, listed, flair, lackluster, available, defined, such, well,\n",
      "Nearest to was: is, became, were, has, had, be, been, sybase,\n",
      "Nearest to three: six, five, four, two, seven, eight, nine, zero,\n",
      "Nearest to are: were, have, is, ott, remain, be, qualifying, npc,\n",
      "Nearest to than: or, nausica, clocked, cilicia, becoming, imbolc, much, wf,\n",
      "Nearest to a: cultivars, easton, dominican, bowhunting, helicopters, any, messalina, no,\n",
      "Nearest to of: shevardnadze, loosened, tora, lehman, constantius, entire, includes, swallowing,\n",
      "Nearest to such: these, possible, zeist, known, regarded, well, admits, many,\n",
      "Nearest to from: into, through, tala, after, guan, raison, nitrate, saline,\n",
      "Average loss at step 32000: 2.965247\n",
      "Average loss at step 34000: 2.794759\n",
      "Average loss at step 36000: 2.946630\n",
      "Average loss at step 38000: 2.947193\n",
      "Average loss at step 40000: 2.898473\n",
      "Nearest to five: six, four, three, eight, seven, nine, two, zero,\n",
      "Nearest to on: upon, in, seater, through, bypasses, jose, under, inr,\n",
      "Nearest to system: systems, object, hardness, minimally, sade, routing, policy, transcended,\n",
      "Nearest to united: kurtz, wrought, same, highest, bragg, sikh, linebacker, alighieri,\n",
      "Nearest to but: however, though, and, although, plantae, manhood, turbines, via,\n",
      "Nearest to will: would, may, can, could, should, might, must, cannot,\n",
      "Nearest to years: days, months, antidote, lipschitz, decades, zoltan, centuries, predictions,\n",
      "Nearest to known: used, listed, defined, lackluster, flair, available, regarded, such,\n",
      "Nearest to was: is, became, has, had, were, been, sybase, be,\n",
      "Nearest to three: five, four, six, two, seven, eight, nine, zero,\n",
      "Nearest to are: were, have, is, remain, including, be, ott, npc,\n",
      "Nearest to than: cilicia, or, clocked, nausica, becoming, chorale, wf, objectivist,\n",
      "Nearest to a: any, easton, another, forbes, cultivars, aor, helicopters, the,\n",
      "Nearest to of: in, lehman, damian, and, pretends, gah, riflemen, meritocratic,\n",
      "Nearest to such: these, regarded, possible, zeist, well, known, many, fearless,\n",
      "Nearest to from: through, into, tala, guan, saline, before, ramjet, after,\n",
      "Average loss at step 42000: 2.913512\n",
      "Average loss at step 44000: 2.944572\n",
      "Average loss at step 46000: 2.928417\n",
      "Average loss at step 48000: 2.892259\n",
      "Average loss at step 50000: 2.854207\n",
      "Nearest to five: four, eight, three, seven, six, nine, two, zero,\n",
      "Nearest to on: upon, in, bypasses, inr, under, seater, towards, through,\n",
      "Nearest to system: systems, object, sade, hardness, crisis, transcended, minimally, policy,\n",
      "Nearest to united: wrought, kurtz, same, sikh, southern, european, linebacker, bragg,\n",
      "Nearest to but: however, and, although, though, plantae, which, manhood, phyla,\n",
      "Nearest to will: would, can, may, could, might, should, must, cannot,\n",
      "Nearest to years: days, decades, months, antidote, centuries, lipschitz, zoltan, predictions,\n",
      "Nearest to known: used, listed, available, defined, lackluster, flair, described, such,\n",
      "Nearest to was: is, had, became, has, were, been, be, sybase,\n",
      "Nearest to three: five, four, six, seven, eight, two, nine, zero,\n",
      "Nearest to are: were, have, remain, is, include, be, npc, including,\n",
      "Nearest to than: cilicia, becoming, or, clocked, slippery, nausica, wf, elects,\n",
      "Nearest to a: another, the, cultivars, easton, any, aor, crystallizes, pali,\n",
      "Nearest to of: including, shevardnadze, lehman, in, gah, wff, hairless, sinbad,\n",
      "Nearest to such: these, regarded, possible, zeist, known, well, fearless, differing,\n",
      "Nearest to from: through, into, ramjet, quadrangle, tala, after, before, regarding,\n",
      "Average loss at step 52000: 2.834839\n",
      "Average loss at step 54000: 2.877167\n",
      "Average loss at step 56000: 2.844853\n",
      "Average loss at step 58000: 2.858441\n",
      "Average loss at step 60000: 2.738241\n",
      "Nearest to five: four, seven, six, eight, three, nine, zero, two,\n",
      "Nearest to on: upon, in, bypasses, towards, under, concerning, jose, during,\n",
      "Nearest to system: systems, object, policy, hardness, crisis, beam, transcended, routing,\n",
      "Nearest to united: kurtz, wrought, bragg, sikh, nation, linebacker, arminianism, european,\n",
      "Nearest to but: however, although, and, though, phyla, than, see, which,\n",
      "Nearest to will: would, can, may, could, should, might, must, cannot,\n",
      "Nearest to years: decades, days, months, centuries, zoltan, lipschitz, antidote, year,\n",
      "Nearest to known: used, defined, listed, lackluster, such, regarded, described, available,\n",
      "Nearest to was: is, had, became, were, has, been, be, sybase,\n",
      "Nearest to three: four, six, five, seven, eight, two, nine, zero,\n",
      "Nearest to are: were, have, is, remain, including, include, be, npc,\n",
      "Nearest to than: cilicia, becoming, but, or, slippery, resonances, peaceful, clocked,\n",
      "Nearest to a: another, enough, easton, aor, every, sauk, helicopters, forbes,\n",
      "Nearest to of: shevardnadze, including, although, sinbad, principe, tora, wff, mcgraw,\n",
      "Nearest to such: these, known, regarded, zeist, well, including, many, possible,\n",
      "Nearest to from: through, into, ramjet, after, mpd, during, guan, within,\n",
      "Average loss at step 62000: 2.827389\n",
      "Average loss at step 64000: 2.823565\n",
      "Average loss at step 66000: 2.788490\n",
      "Average loss at step 68000: 2.743059\n",
      "Average loss at step 70000: 2.713113\n",
      "Nearest to five: four, six, seven, eight, three, nine, zero, two,\n",
      "Nearest to on: upon, in, through, lisboa, jose, inr, under, within,\n",
      "Nearest to system: systems, object, psychoactive, beam, policy, hardness, transcended, routing,\n",
      "Nearest to united: kurtz, wrought, nation, arminianism, sikh, worst, european, southern,\n",
      "Nearest to but: however, although, though, and, phyla, see, which, plantae,\n",
      "Nearest to will: would, can, may, should, could, must, might, cannot,\n",
      "Nearest to years: decades, days, months, centuries, lipschitz, year, zoltan, antidote,\n",
      "Nearest to known: defined, used, listed, regarded, lackluster, described, such, available,\n",
      "Nearest to was: is, became, had, has, were, be, been, lasted,\n",
      "Nearest to three: four, six, five, seven, two, eight, nine, zero,\n",
      "Nearest to are: were, have, remain, is, include, be, including, qualifying,\n",
      "Nearest to than: cilicia, or, becoming, peaceful, much, resonances, slippery, hardy,\n",
      "Nearest to a: another, the, any, helicopters, foxe, easton, sanitarium, forbes,\n",
      "Nearest to of: ase, shevardnadze, riflemen, including, gah, in, swallowing, damian,\n",
      "Nearest to such: these, differing, regarded, known, well, certain, zeist, kopp,\n",
      "Nearest to from: through, into, before, ramjet, guan, after, within, shorts,\n",
      "Average loss at step 72000: 2.758824\n",
      "Average loss at step 74000: 2.792537\n",
      "Average loss at step 76000: 2.745268\n",
      "Average loss at step 78000: 2.686827\n",
      "Average loss at step 80000: 2.797183\n",
      "Nearest to five: six, four, seven, eight, three, nine, two, zero,\n",
      "Nearest to on: upon, through, in, under, concerning, bypasses, within, during,\n",
      "Nearest to system: systems, transcended, situation, routing, beam, hardness, psychoactive, policy,\n",
      "Nearest to united: kurtz, wrought, sikh, shi, confederate, nation, arminianism, european,\n",
      "Nearest to but: however, although, and, though, see, phyla, which, especially,\n",
      "Nearest to will: would, can, could, may, should, might, must, cannot,\n",
      "Nearest to years: decades, days, months, centuries, year, times, hours, weeks,\n",
      "Nearest to known: used, defined, listed, regarded, lackluster, described, famous, important,\n",
      "Nearest to was: is, became, has, had, were, be, becomes, been,\n",
      "Nearest to three: four, five, six, seven, two, eight, nine, zero,\n",
      "Nearest to are: were, have, is, remain, include, be, including, styne,\n",
      "Nearest to than: becoming, cilicia, much, or, unmistakable, slippery, hardy, peaceful,\n",
      "Nearest to a: any, another, the, messalina, aor, enough, no, easton,\n",
      "Nearest to of: swallowing, shevardnadze, in, regarding, lowest, including, gah, riflemen,\n",
      "Nearest to such: these, well, regarded, certain, differing, possible, known, follows,\n",
      "Nearest to from: through, into, ramjet, within, across, saline, in, before,\n",
      "Average loss at step 82000: 2.811187\n",
      "Average loss at step 84000: 2.674644\n",
      "Average loss at step 86000: 2.752764\n",
      "Average loss at step 88000: 2.726695\n",
      "Average loss at step 90000: 2.747580\n",
      "Nearest to five: four, seven, six, eight, three, nine, zero, two,\n",
      "Nearest to on: upon, through, in, bypasses, concerning, around, towards, inr,\n",
      "Nearest to system: systems, transcended, situation, psychoactive, hardness, routing, server, beam,\n",
      "Nearest to united: kurtz, wrought, nation, sikh, shi, confederate, arminianism, usa,\n",
      "Nearest to but: however, although, though, and, see, which, alessandri, while,\n",
      "Nearest to will: would, can, could, should, may, must, might, cannot,\n",
      "Nearest to years: decades, months, days, centuries, year, hours, weeks, minutes,\n",
      "Nearest to known: used, defined, lackluster, regarded, listed, described, famous, translated,\n",
      "Nearest to was: is, became, be, had, has, were, been, newly,\n",
      "Nearest to three: four, five, six, seven, two, eight, nine, zero,\n",
      "Nearest to are: were, remain, have, include, is, be, npc, exist,\n",
      "Nearest to than: cilicia, or, becoming, much, slippery, even, resonances, peaceful,\n",
      "Nearest to a: another, any, messalina, sauk, grasshopper, easton, helicopters, enough,\n",
      "Nearest to of: sha, concerning, shevardnadze, including, impacting, mcgraw, gah, heather,\n",
      "Nearest to such: these, well, certain, possible, regarded, known, follows, many,\n",
      "Nearest to from: through, into, across, during, guan, after, throughout, ramjet,\n",
      "Average loss at step 92000: 2.759831\n",
      "Average loss at step 94000: 2.662863\n",
      "Average loss at step 96000: 2.744906\n",
      "Average loss at step 98000: 2.709569\n",
      "Average loss at step 100000: 2.700816\n",
      "Nearest to five: four, seven, six, three, eight, nine, zero, two,\n",
      "Nearest to on: upon, through, towards, concerning, inr, near, in, lisboa,\n",
      "Nearest to system: systems, transcended, situation, psychoactive, hardness, crisis, server, architecture,\n",
      "Nearest to united: kurtz, wrought, nation, sikh, sovereign, usa, confederate, lovelock,\n",
      "Nearest to but: however, although, though, and, see, while, phyla, ghosting,\n",
      "Nearest to will: would, can, could, should, may, must, might, cannot,\n",
      "Nearest to years: decades, months, days, centuries, year, hours, weeks, generations,\n",
      "Nearest to known: used, defined, regarded, lackluster, such, listed, described, recognized,\n",
      "Nearest to was: is, became, had, were, has, be, been, becomes,\n",
      "Nearest to three: four, five, seven, two, six, eight, nine, zero,\n",
      "Nearest to are: were, have, remain, include, is, be, npc, appear,\n",
      "Nearest to than: cilicia, or, much, becoming, resonances, unmistakable, slippery, even,\n",
      "Nearest to a: another, the, messalina, grasshopper, sauk, gutrune, helicopters, caer,\n",
      "Nearest to of: gah, lehman, tora, concerning, xcd, riflemen, raises, swallowing,\n",
      "Nearest to such: these, known, certain, well, regarded, possible, differing, follows,\n",
      "Nearest to from: through, across, into, during, ramjet, after, before, guan,\n"
     ]
    }
   ],
   "source": [
    "num_steps = 100001\n",
    "\n",
    "with tf.Session(graph=graph) as session:\n",
    "  tf.global_variables_initializer().run()\n",
    "  print('Initialized')\n",
    "  average_loss = 0\n",
    "  for step in range(num_steps):\n",
    "    batch_data, batch_labels = generate_batch_cbow(\n",
    "      batch_size, context_size, context_window)\n",
    "    feed_dict = {train_dataset : batch_data, train_labels : batch_labels}\n",
    "    _, l = session.run([optimizer, loss], feed_dict=feed_dict)\n",
    "    average_loss += l\n",
    "    if step % 2000 == 0:\n",
    "      if step > 0:\n",
    "        average_loss = average_loss / 2000\n",
    "      # The average loss is an estimate of the loss over the last 2000 batches.\n",
    "      print('Average loss at step %d: %f' % (step, average_loss))\n",
    "      average_loss = 0\n",
    "    # note that this is expensive (~20% slowdown if computed every 500 steps)\n",
    "    if step % 10000 == 0:\n",
    "      sim = similarity.eval()\n",
    "      for i in range(valid_size):\n",
    "        valid_word = reverse_dictionary[valid_examples[i]]\n",
    "        top_k = 8 # number of nearest neighbors\n",
    "        nearest = (-sim[i, :]).argsort()[1:top_k+1]\n",
    "        log = 'Nearest to %s:' % valid_word\n",
    "        for k in range(top_k):\n",
    "          close_word = reverse_dictionary[nearest[k]]\n",
    "          log = '%s %s,' % (log, close_word)\n",
    "        print(log)\n",
    "  final_embeddings_cbow = normalized_embeddings.eval()"
   ]
  },
  {
   "cell_type": "markdown",
   "metadata": {
    "deletable": true,
    "editable": true
   },
   "source": [
    "Ok, we've trained our word embedding. Now we need to understand how good it is, and how better/worse it is w.r.t. skip-gram.\n",
    "It seems there are basically two main approaches to evaluate the quality of a word embedding and compare it to another. \n",
    "1. We can use a supervised task that uses the embedding and compute a specific metric to the task at hand.\n",
    "2. We can use an external \"query inventory\" which basically lists similarities between pairs of word, and compare them wth the similarities based on the embedding. The similarities from the query inventory are based on human review.\n",
    "\n",
    "We will use the second approach and for that use the WordSimilarity-353 dataset [3]. It contains 200 pairs of words whose similarity has been rated by 16 people. \n",
    "\n",
    "Refs.\n",
    "\n",
    "[1] T. Schnabel, I. Labutov, D. Mimno, T. Joachims, *Evaluation methods for unsupervised word embeddings*, Proceedings of the 2015 Conference on Empirical Methods in Natural Language Processing. 2015.\n",
    "\n",
    "[2] M. Baroni, G. Dinu, G. Kruszewski. 2014. *Don’t count, predict! a systematic comparison of context-counting vs. context-predicting semantic vectors*.\n",
    "\n",
    "[3] https://www.aclweb.org/aclwiki/index.php?title=WordSimilarity-353_Test_Collection_(State_of_the_art)"
   ]
  },
  {
   "cell_type": "markdown",
   "metadata": {
    "deletable": true,
    "editable": true
   },
   "source": [
    "Let's first download and read the dataset"
   ]
  },
  {
   "cell_type": "code",
   "execution_count": 41,
   "metadata": {
    "collapsed": false,
    "deletable": true,
    "editable": true
   },
   "outputs": [],
   "source": [
    "url = 'http://www.cs.technion.ac.il/~gabr/resources/data/wordsim353/'\n",
    "\n",
    "def maybe_download_2(filename):\n",
    "  \"\"\"Download a file if not present, and make sure it's the right size.\"\"\"\n",
    "  if not os.path.exists(filename):\n",
    "    filename, _ = urlretrieve(url + filename, filename)\n",
    "  return filename\n",
    "\n",
    "def read_data(filename):\n",
    "  \"\"\"Extract the first file enclosed in a zip file as a list of words\"\"\"\n",
    "  wordspairs = np.ndarray(shape=(200,2),dtype=object)  \n",
    "  similarity = np.ndarray(shape=200,dtype=np.float)  \n",
    "  with zipfile.ZipFile(filename) as f:\n",
    "    file = f.open('set2.csv','r')    \n",
    "    for i,line in enumerate(file.readlines()[1:]):\n",
    "        wordspairs[i,:] = line.split(',')[:2]\n",
    "        similarity[i] = np.float(line.split(',')[2])\n",
    "  return wordspairs, similarity\n",
    "\n",
    "filename = maybe_download_2('wordsim353.zip')\n",
    "wordspairs,similarity = read_data(filename)"
   ]
  },
  {
   "cell_type": "markdown",
   "metadata": {
    "deletable": true,
    "editable": true
   },
   "source": [
    "Next we need to rescale the similarity on a scale from 0 to 1, compute the cosine similarity of each pairs with our embeddings and compare the computed similarity with the 'true' similarity."
   ]
  },
  {
   "cell_type": "code",
   "execution_count": 42,
   "metadata": {
    "collapsed": false,
    "deletable": true,
    "editable": true
   },
   "outputs": [
    {
     "name": "stdout",
     "output_type": "stream",
     "text": [
      "similarity score for pair  ['energy' 'secretary']  :  -0.638\n",
      "similarity score for pair  ['secretary' 'senate']  :  0.012\n",
      "similarity score for pair  ['energy' 'laboratory']  :  0.018\n",
      "similarity score for pair  ['computer' 'laboratory']  :  0.356\n",
      "similarity score for pair  ['weapon' 'secret']  :  0.212\n",
      "similarity score for pair  ['FBI' 'fingerprint']  :  0.388\n",
      "similarity score for pair  ['FBI' 'investigation']  :  0.662\n",
      "similarity score for pair  ['investigation' 'effort']  :  -0.082\n",
      "similarity score for pair  ['Mars' 'water']  :  -0.412\n",
      "similarity score for pair  ['Mars' 'scientist']  :  0.126\n",
      "similarity score for pair  ['news' 'report']  :  0.632\n",
      "similarity score for pair  ['canyon' 'landscape']  :  0.506\n",
      "similarity score for pair  ['image' 'surface']  :  -0.088\n",
      "similarity score for pair  ['discovery' 'space']  :  0.268\n",
      "similarity score for pair  ['water' 'seepage']  :  0.312\n",
      "similarity score for pair  ['sign' 'recess']  :  -0.524\n",
      "similarity score for pair  ['Wednesday' 'news']  :  -0.556\n",
      "similarity score for pair  ['mile' 'kilometer']  :  0.732\n",
      "similarity score for pair  ['computer' 'news']  :  -0.106\n",
      "similarity score for pair  ['territory' 'surface']  :  0.068\n",
      "similarity score for pair  ['atmosphere' 'landscape']  :  -0.262\n",
      "similarity score for pair  ['president' 'medal']  :  -0.4\n",
      "similarity score for pair  ['war' 'troops']  :  0.626\n",
      "similarity score for pair  ['record' 'number']  :  0.262\n",
      "similarity score for pair  ['skin' 'eye']  :  0.244\n",
      "similarity score for pair  ['Japanese' 'American']  :  0.3\n",
      "similarity score for pair  ['theater' 'history']  :  -0.218\n",
      "similarity score for pair  ['volunteer' 'motto']  :  -0.488\n",
      "similarity score for pair  ['prejudice' 'recognition']  :  -0.4\n",
      "similarity score for pair  ['decoration' 'valor']  :  0.126\n",
      "similarity score for pair  ['century' 'year']  :  0.518\n",
      "similarity score for pair  ['century' 'nation']  :  -0.368\n",
      "similarity score for pair  ['delay' 'racism']  :  -0.762\n",
      "similarity score for pair  ['delay' 'news']  :  -0.338\n",
      "similarity score for pair  ['minister' 'party']  :  0.326\n",
      "similarity score for pair  ['peace' 'plan']  :  -0.05\n",
      "similarity score for pair  ['minority' 'peace']  :  -0.262\n",
      "similarity score for pair  ['attempt' 'peace']  :  -0.15\n",
      "similarity score for pair  ['government' 'crisis']  :  0.312\n",
      "similarity score for pair  ['deployment' 'departure']  :  -0.15\n",
      "similarity score for pair  ['deployment' 'withdrawal']  :  0.176\n",
      "similarity score for pair  ['energy' 'crisis']  :  0.188\n",
      "similarity score for pair  ['announcement' 'news']  :  0.512\n",
      "similarity score for pair  ['announcement' 'effort']  :  -0.45\n",
      "similarity score for pair  ['stroke' 'hospital']  :  0.406\n",
      "similarity score for pair  ['disability' 'death']  :  0.094\n",
      "similarity score for pair  ['victim' 'emergency']  :  0.294\n",
      "similarity score for pair  ['treatment' 'recovery']  :  0.582\n",
      "similarity score for pair  ['journal' 'association']  :  -0.006\n",
      "similarity score for pair  ['doctor' 'personnel']  :  0.0\n",
      "similarity score for pair  ['doctor' 'liability']  :  0.038\n",
      "similarity score for pair  ['liability' 'insurance']  :  0.406\n",
      "similarity score for pair  ['school' 'center']  :  -0.312\n",
      "similarity score for pair  ['reason' 'hypertension']  :  -0.538\n",
      "similarity score for pair  ['reason' 'criterion']  :  0.182\n",
      "similarity score for pair  ['hundred' 'percent']  :  0.476\n",
      "similarity score for pair  ['Harvard' 'Yale']  :  0.626\n",
      "similarity score for pair  ['hospital' 'infrastructure']  :  -0.074\n",
      "similarity score for pair  ['death' 'row']  :  0.05\n",
      "similarity score for pair  ['death' 'inmate']  :  0.006\n",
      "similarity score for pair  ['lawyer' 'evidence']  :  0.338\n",
      "similarity score for pair  ['life' 'death']  :  0.576\n",
      "similarity score for pair  ['life' 'term']  :  -0.1\n",
      "similarity score for pair  ['word' 'similarity']  :  -0.05\n",
      "similarity score for pair  ['board' 'recommendation']  :  -0.106\n",
      "similarity score for pair  ['governor' 'interview']  :  -0.35\n",
      "similarity score for pair  ['OPEC' 'country']  :  0.126\n",
      "similarity score for pair  ['peace' 'atmosphere']  :  -0.262\n",
      "similarity score for pair  ['peace' 'insurance']  :  -0.412\n",
      "similarity score for pair  ['territory' 'kilometer']  :  0.056\n",
      "similarity score for pair  ['travel' 'activity']  :  0.0\n",
      "similarity score for pair  ['competition' 'price']  :  0.288\n",
      "similarity score for pair  ['consumer' 'confidence']  :  -0.174\n",
      "similarity score for pair  ['consumer' 'energy']  :  -0.05\n",
      "similarity score for pair  ['problem' 'airport']  :  -0.524\n",
      "similarity score for pair  ['car' 'flight']  :  -0.012\n",
      "similarity score for pair  ['credit' 'card']  :  0.612\n",
      "similarity score for pair  ['credit' 'information']  :  0.062\n",
      "similarity score for pair  ['hotel' 'reservation']  :  0.606\n",
      "similarity score for pair  ['grocery' 'money']  :  0.188\n",
      "similarity score for pair  ['registration' 'arrangement']  :  0.2\n",
      "similarity score for pair  ['arrangement' 'accommodation']  :  0.082\n",
      "similarity score for pair  ['month' 'hotel']  :  -0.638\n",
      "similarity score for pair  ['type' 'kind']  :  0.794\n",
      "similarity score for pair  ['arrival' 'hotel']  :  0.2\n",
      "similarity score for pair  ['bed' 'closet']  :  0.344\n",
      "similarity score for pair  ['closet' 'clothes']  :  0.6\n",
      "similarity score for pair  ['situation' 'conclusion']  :  -0.038\n",
      "similarity score for pair  ['situation' 'isolation']  :  -0.224\n",
      "similarity score for pair  ['impartiality' 'interest']  :  0.032\n",
      "similarity score for pair  ['direction' 'combination']  :  -0.55\n",
      "similarity score for pair  ['street' 'place']  :  0.288\n",
      "similarity score for pair  ['street' 'avenue']  :  0.776\n",
      "similarity score for pair  ['street' 'block']  :  0.376\n",
      "similarity score for pair  ['street' 'children']  :  -0.012\n",
      "similarity score for pair  ['listing' 'proximity']  :  -0.488\n",
      "similarity score for pair  ['listing' 'category']  :  0.276\n",
      "similarity score for pair  ['cell' 'phone']  :  0.562\n",
      "similarity score for pair  ['production' 'hike']  :  -0.65\n",
      "similarity score for pair  ['benchmark' 'index']  :  -0.15\n",
      "similarity score for pair  ['media' 'trading']  :  -0.224\n",
      "similarity score for pair  ['media' 'gain']  :  -0.424\n",
      "similarity score for pair  ['dividend' 'payment']  :  0.526\n",
      "similarity score for pair  ['dividend' 'calculation']  :  0.296\n",
      "similarity score for pair  ['calculation' 'computation']  :  0.688\n",
      "similarity score for pair  ['currency' 'market']  :  0.5\n",
      "similarity score for pair  ['OPEC' 'oil']  :  0.718\n",
      "similarity score for pair  ['oil' 'stock']  :  0.268\n",
      "similarity score for pair  ['announcement' 'production']  :  -0.324\n",
      "similarity score for pair  ['announcement' 'warning']  :  0.2\n",
      "similarity score for pair  ['profit' 'warning']  :  -0.224\n",
      "similarity score for pair  ['profit' 'loss']  :  0.526\n",
      "similarity score for pair  ['dollar' 'yen']  :  0.556\n",
      "similarity score for pair  ['dollar' 'buck']  :  0.844\n",
      "similarity score for pair  ['dollar' 'profit']  :  0.476\n",
      "similarity score for pair  ['dollar' 'loss']  :  0.218\n",
      "similarity score for pair  ['computer' 'software']  :  0.7\n",
      "similarity score for pair  ['network' 'hardware']  :  0.662\n",
      "similarity score for pair  ['phone' 'equipment']  :  0.426\n",
      "similarity score for pair  ['equipment' 'maker']  :  0.182\n",
      "similarity score for pair  ['luxury' 'car']  :  0.294\n",
      "similarity score for pair  ['five' 'month']  :  -0.324\n",
      "similarity score for pair  ['report' 'gain']  :  -0.274\n",
      "similarity score for pair  ['investor' 'earning']  :  0.426\n",
      "similarity score for pair  ['liquid' 'water']  :  0.578\n",
      "similarity score for pair  ['baseball' 'season']  :  0.194\n",
      "similarity score for pair  ['game' 'victory']  :  0.406\n",
      "similarity score for pair  ['game' 'team']  :  0.538\n",
      "similarity score for pair  ['marathon' 'sprint']  :  0.494\n",
      "similarity score for pair  ['game' 'series']  :  0.238\n",
      "similarity score for pair  ['game' 'defeat']  :  0.394\n",
      "similarity score for pair  ['seven' 'series']  :  -0.288\n",
      "similarity score for pair  ['seafood' 'sea']  :  0.494\n",
      "similarity score for pair  ['seafood' 'food']  :  0.668\n",
      "similarity score for pair  ['seafood' 'lobster']  :  0.74\n",
      "similarity score for pair  ['lobster' 'food']  :  0.562\n",
      "similarity score for pair  ['lobster' 'wine']  :  0.14\n",
      "similarity score for pair  ['food' 'preparation']  :  0.244\n",
      "similarity score for pair  ['video' 'archive']  :  0.268\n",
      "similarity score for pair  ['start' 'year']  :  -0.188\n",
      "similarity score for pair  ['start' 'match']  :  -0.106\n",
      "similarity score for pair  ['game' 'round']  :  0.194\n",
      "similarity score for pair  ['boxing' 'round']  :  0.522\n",
      "similarity score for pair  ['championship' 'tournament']  :  0.672\n",
      "similarity score for pair  ['fighting' 'defeating']  :  0.482\n",
      "similarity score for pair  ['line' 'insurance']  :  -0.462\n",
      "similarity score for pair  ['day' 'summer']  :  -0.212\n",
      "similarity score for pair  ['summer' 'drought']  :  0.432\n",
      "similarity score for pair  ['summer' 'nature']  :  0.126\n",
      "similarity score for pair  ['day' 'dawn']  :  0.506\n",
      "similarity score for pair  ['nature' 'environment']  :  0.662\n",
      "similarity score for pair  ['environment' 'ecology']  :  0.762\n",
      "similarity score for pair  ['nature' 'man']  :  0.25\n",
      "similarity score for pair  ['man' 'woman']  :  0.66\n",
      "similarity score for pair  ['man' 'governor']  :  0.05\n",
      "similarity score for pair  ['murder' 'manslaughter']  :  0.706\n",
      "similarity score for pair  ['soap' 'opera']  :  0.588\n",
      "similarity score for pair  ['opera' 'performance']  :  0.376\n",
      "similarity score for pair  ['life' 'lesson']  :  0.188\n",
      "similarity score for pair  ['focus' 'life']  :  -0.188\n",
      "similarity score for pair  ['production' 'crew']  :  0.25\n",
      "similarity score for pair  ['television' 'film']  :  0.544\n",
      "similarity score for pair  ['lover' 'quarrel']  :  0.238\n",
      "similarity score for pair  ['viewer' 'serial']  :  -0.406\n",
      "similarity score for pair  ['possibility' 'girl']  :  -0.612\n",
      "similarity score for pair  ['population' 'development']  :  -0.25\n",
      "similarity score for pair  ['morality' 'importance']  :  -0.338\n",
      "similarity score for pair  ['morality' 'marriage']  :  -0.262\n",
      "similarity score for pair  ['Mexico' 'Brazil']  :  0.488\n",
      "similarity score for pair  ['gender' 'equality']  :  0.282\n",
      "similarity score for pair  ['change' 'attitude']  :  0.088\n",
      "similarity score for pair  ['family' 'planning']  :  0.25\n",
      "similarity score for pair  ['opera' 'industry']  :  -0.474\n",
      "similarity score for pair  ['sugar' 'approach']  :  -0.824\n",
      "similarity score for pair  ['practice' 'institution']  :  -0.362\n",
      "similarity score for pair  ['ministry' 'culture']  :  -0.062\n",
      "similarity score for pair  ['problem' 'challenge']  :  0.35\n",
      "similarity score for pair  ['size' 'prominence']  :  0.062\n",
      "similarity score for pair  ['country' 'citizen']  :  0.462\n",
      "similarity score for pair  ['planet' 'people']  :  0.15\n",
      "similarity score for pair  ['development' 'issue']  :  -0.206\n",
      "similarity score for pair  ['experience' 'music']  :  -0.306\n",
      "similarity score for pair  ['music' 'project']  :  -0.274\n",
      "similarity score for pair  ['glass' 'metal']  :  0.112\n",
      "similarity score for pair  ['aluminum' 'metal']  :  0.566\n",
      "similarity score for pair  ['chance' 'credibility']  :  -0.224\n",
      "similarity score for pair  ['exhibit' 'memorabilia']  :  0.062\n",
      "similarity score for pair  ['concert' 'virtuoso']  :  0.362\n",
      "similarity score for pair  ['rock' 'jazz']  :  0.518\n",
      "similarity score for pair  ['museum' 'theater']  :  0.438\n",
      "similarity score for pair  ['observation' 'architecture']  :  -0.124\n",
      "similarity score for pair  ['space' 'world']  :  0.306\n",
      "similarity score for pair  ['preservation' 'world']  :  0.238\n",
      "similarity score for pair  ['admission' 'ticket']  :  0.538\n",
      "similarity score for pair  ['shower' 'thunderstorm']  :  0.262\n",
      "similarity score for pair  ['shower' 'flood']  :  0.206\n",
      "similarity score for pair  ['weather' 'forecast']  :  0.668\n",
      "similarity score for pair  ['disaster' 'area']  :  0.25\n",
      "similarity score for pair  ['governor' 'office']  :  0.268\n",
      "similarity score for pair  ['architecture' 'century']  :  -0.244\n"
     ]
    }
   ],
   "source": [
    "similarity = (similarity-5)/5\n",
    "for i,wordspair in enumerate(wordspairs):\n",
    "    print(\"similarity score for pair \",wordspair,' : ', similarity[i])"
   ]
  },
  {
   "cell_type": "code",
   "execution_count": 52,
   "metadata": {
    "collapsed": false
   },
   "outputs": [
    {
     "name": "stdout",
     "output_type": "stream",
     "text": [
      "Word seepage not in dictionnary.\n"
     ]
    }
   ],
   "source": [
    "word1_index = np.empty(shape=(200),dtype = np.int)\n",
    "word2_index = np.empty(shape=(200),dtype = np.int)\n",
    "\n",
    "for i,wordpair in enumerate(wordspairs):\n",
    "    try :\n",
    "        word1_index[i] = dictionary[wordpair[0].lower()]\n",
    "    except KeyError:\n",
    "        print(\"Word %s not in dictionnary.\" %wordpair[0])\n",
    "        word1_index[i] = 0\n",
    "    try :\n",
    "        word2_index[i] = dictionary[wordpair[1].lower()]\n",
    "    except KeyError:\n",
    "        print(\"Word %s not in dictionnary.\" %wordpair[1])\n",
    "        word2_index[i] = 0\n",
    "        continue\n",
    "\n",
    "with graph.as_default(), tf.device('/cpu:0'):\n",
    "  word1 = tf.constant(word1_index,dtype=tf.int32)\n",
    "  word2 = tf.constant(word2_index,dtype=tf.int32)\n",
    "  word1_embeddings = tf.nn.embedding_lookup(final_embeddings_skip_gram, word1)\n",
    "  word2_embeddings = tf.nn.embedding_lookup(final_embeddings_skip_gram, word2)\n",
    "  similarity_skip = tf.reduce_sum(tf.multiply(word1_embeddings, word2_embeddings),axis=1)"
   ]
  },
  {
   "cell_type": "code",
   "execution_count": 53,
   "metadata": {
    "collapsed": true
   },
   "outputs": [],
   "source": [
    "with tf.Session(graph=graph) as session:\n",
    "    sim_skip = similarity_skip.eval()  "
   ]
  },
  {
   "cell_type": "code",
   "execution_count": 43,
   "metadata": {
    "collapsed": false,
    "deletable": true,
    "editable": true
   },
   "outputs": [
    {
     "name": "stdout",
     "output_type": "stream",
     "text": [
      "Word seepage not in dictionnary.\n"
     ]
    }
   ],
   "source": [
    "word1_index = np.empty(shape=(200),dtype = np.int)\n",
    "word2_index = np.empty(shape=(200),dtype = np.int)\n",
    "\n",
    "for i,wordpair in enumerate(wordspairs):\n",
    "    try :\n",
    "        word1_index[i] = dictionary[wordpair[0].lower()]\n",
    "    except KeyError:\n",
    "        print(\"Word %s not in dictionnary.\" %wordpair[0])\n",
    "        word1_index[i] = 0\n",
    "    try :\n",
    "        word2_index[i] = dictionary[wordpair[1].lower()]\n",
    "    except KeyError:\n",
    "        print(\"Word %s not in dictionnary.\" %wordpair[1])\n",
    "        word2_index[i] = 0\n",
    "        continue\n",
    "\n",
    "with graph.as_default(), tf.device('/cpu:0'):\n",
    "  word1 = tf.constant(word1_index,dtype=tf.int32)\n",
    "  word2 = tf.constant(word2_index,dtype=tf.int32)\n",
    "  word1_embeddings = tf.nn.embedding_lookup(final_embeddings_cbow, word1)\n",
    "  word2_embeddings = tf.nn.embedding_lookup(final_embeddings_cbow, word2)\n",
    "  similarity_cbow = tf.reduce_sum(tf.multiply(word1_embeddings, word2_embeddings),axis=1)"
   ]
  },
  {
   "cell_type": "code",
   "execution_count": 54,
   "metadata": {
    "collapsed": false
   },
   "outputs": [],
   "source": [
    "with tf.Session(graph=graph) as session:\n",
    "    sim_cbow = similarity_cbow.eval()  "
   ]
  },
  {
   "cell_type": "code",
   "execution_count": 56,
   "metadata": {
    "collapsed": false
   },
   "outputs": [
    {
     "name": "stdout",
     "output_type": "stream",
     "text": [
      "Score for skip-gram model is : 0.153535 .\n",
      "Score for CBOW model is : 0.148035 .\n"
     ]
    }
   ],
   "source": [
    "score_cbow = np.mean((similarity-sim_cbow)**2)\n",
    "score_skip = np.mean((similarity-sim_skip)**2)\n",
    "print('Score for skip-gram model is : %f .\\nScore for CBOW model is : %f .' %(score_skip,score_cbow))"
   ]
  },
  {
   "cell_type": "markdown",
   "metadata": {},
   "source": [
    "On that validation set, we can see that CBOW is doing slightly better.\n",
    "\n",
    "The tensorflow tutorial suggests another method to validate embeddings. It also uses an external query inventory dataset, but this time, it is to measure the ability to recover semantic analogies. In that case, we provide, three words (e.g. France, Paris, Berlin) and check how far the fourth semantically associated word is from F-P+B. \n",
    "\n",
    "I will try that if I have some time later. For now I will go on with LSTM's"
   ]
  }
 ],
 "metadata": {
  "colab": {
   "default_view": {},
   "name": "5_word2vec.ipynb",
   "provenance": [],
   "version": "0.3.2",
   "views": {}
  },
  "kernelspec": {
   "display_name": "Python 2",
   "language": "python",
   "name": "python2"
  },
  "language_info": {
   "codemirror_mode": {
    "name": "ipython",
    "version": 2
   },
   "file_extension": ".py",
   "mimetype": "text/x-python",
   "name": "python",
   "nbconvert_exporter": "python",
   "pygments_lexer": "ipython2",
   "version": "2.7.6"
  }
 },
 "nbformat": 4,
 "nbformat_minor": 0
}
